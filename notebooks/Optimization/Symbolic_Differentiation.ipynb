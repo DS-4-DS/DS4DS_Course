{
 "cells": [
  {
   "cell_type": "code",
   "execution_count": 1,
   "metadata": {},
   "outputs": [],
   "source": [
    "using Symbolics\n",
    "using Latexify"
   ]
  },
  {
   "cell_type": "markdown",
   "metadata": {},
   "source": [
    "**Demonstration of symbolic differentiation limitations**"
   ]
  },
  {
   "cell_type": "markdown",
   "metadata": {},
   "source": [
    "We make use of the famous logistic map example which is defined by the following iterative function definition: $$\\mathcal{L}_{i+1}(w) = 4 \\mathcal{L}_{i}(w)(1-\\mathcal{L}_{i}(w)), \\quad \\mathcal{L}_{1}(w)=w .$$ "
   ]
  },
  {
   "cell_type": "code",
   "execution_count": 2,
   "metadata": {},
   "outputs": [],
   "source": [
    "# Define symbolic variable w and its differential D\n",
    "@variables w\n",
    "D = Differential(w);"
   ]
  },
  {
   "cell_type": "code",
   "execution_count": 3,
   "metadata": {},
   "outputs": [],
   "source": [
    "# Define the logistic map function for different orders\n",
    "L_1 = w\n",
    "L_2 = 4*w*(1-w)\n",
    "L_3 = 16*w*(1-w)*(1-2*w)^2\n",
    "L_4 = 64*w*(1-w)*(1-2*w)^2*(1-8*w+8*w^2)^2;"
   ]
  },
  {
   "cell_type": "markdown",
   "metadata": {},
   "source": [
    "Next, we study the resulting first-order derivatives."
   ]
  },
  {
   "cell_type": "code",
   "execution_count": 4,
   "metadata": {},
   "outputs": [
    {
     "data": {
      "text/latex": [
       "$$ \\begin{equation}\n",
       "1\n",
       "\\end{equation}\n",
       " $$"
      ],
      "text/plain": [
       "1"
      ]
     },
     "execution_count": 4,
     "metadata": {},
     "output_type": "execute_result"
    }
   ],
   "source": [
    "expand_derivatives(D(L_1))"
   ]
  },
  {
   "cell_type": "code",
   "execution_count": 5,
   "metadata": {},
   "outputs": [
    {
     "data": {
      "text/latex": [
       "$$ \\begin{equation}\n",
       " - 4 w + 4 \\left( 1 - w \\right)\n",
       "\\end{equation}\n",
       " $$"
      ],
      "text/plain": [
       "-4w + 4(1 - w)"
      ]
     },
     "execution_count": 5,
     "metadata": {},
     "output_type": "execute_result"
    }
   ],
   "source": [
    "expand_derivatives(D(L_2))"
   ]
  },
  {
   "cell_type": "code",
   "execution_count": 6,
   "metadata": {},
   "outputs": [
    {
     "data": {
      "text/latex": [
       "$$ \\begin{equation}\n",
       "16 \\left( 1 - 2 w \\right)^{2} \\left( 1 - w \\right) - 16 \\left( 1 - 2 w \\right)^{2} w - 64 \\left( 1 - 2 w \\right) w \\left( 1 - w \\right)\n",
       "\\end{equation}\n",
       " $$"
      ],
      "text/plain": [
       "16(1 - w)*((1 - 2w)^2) - 16w*((1 - 2w)^2) - 64(1 - 2w)*w*(1 - w)"
      ]
     },
     "execution_count": 6,
     "metadata": {},
     "output_type": "execute_result"
    }
   ],
   "source": [
    "expand_derivatives(D(L_3))"
   ]
  },
  {
   "cell_type": "code",
   "execution_count": 7,
   "metadata": {},
   "outputs": [
    {
     "data": {
      "text/latex": [
       "$$ \\begin{equation}\n",
       " - 64 \\left( 1 - 8 w + 8 w^{2} \\right)^{2} \\left( 1 - 2 w \\right)^{2} w + 64 \\left( 1 - 8 w + 8 w^{2} \\right)^{2} \\left( 1 - 2 w \\right)^{2} \\left( 1 - w \\right) - 256 \\left( 1 - 8 w + 8 w^{2} \\right)^{2} \\left( 1 - 2 w \\right) w \\left( 1 - w \\right) + 128 \\left( 1 - 2 w \\right)^{2} \\left( -8 + 16 w \\right) w \\left( 1 - w \\right) \\left( 1 - 8 w + 8 w^{2} \\right)\n",
       "\\end{equation}\n",
       " $$"
      ],
      "text/plain": [
       "-64w*((1 - 2w)^2)*((1 - 8w + 8(w^2))^2) + 64(1 - w)*((1 - 2w)^2)*((1 - 8w + 8(w^2))^2) - 256(1 - 2w)*w*(1 - w)*((1 - 8w + 8(w^2))^2) + 128(-8 + 16w)*w*(1 - w)*((1 - 2w)^2)*(1 - 8w + 8(w^2))"
      ]
     },
     "execution_count": 7,
     "metadata": {},
     "output_type": "execute_result"
    }
   ],
   "source": [
    "expand_derivatives(D(L_4))"
   ]
  },
  {
   "cell_type": "markdown",
   "metadata": {},
   "source": [
    "**Observation**: the number of terms with the derivative increases exponentially with the order $i$ of $\\mathcal{L}_{i}(w)$ (so-called *expression swell*)."
   ]
  },
  {
   "cell_type": "markdown",
   "metadata": {},
   "source": [
    "Next, we are going to try to differentiate through an ODE solution obtained by a Runge-Kutta (RK) solver."
   ]
  },
  {
   "cell_type": "code",
   "execution_count": 13,
   "metadata": {},
   "outputs": [
    {
     "data": {
      "text/plain": [
       "retcode: Success\n",
       "Interpolation: 3rd order Hermite\n",
       "t: 11-element Vector{Float64}:\n",
       " 0.0\n",
       " 0.1\n",
       " 0.2\n",
       " 0.30000000000000004\n",
       " 0.4\n",
       " 0.5\n",
       " 0.6\n",
       " 0.7\n",
       " 0.7999999999999999\n",
       " 0.8999999999999999\n",
       " 1.0\n",
       "u: 11-element Vector{Num}:\n",
       " x0\n",
       "  1.2214x0\n",
       "  1.49181796x0\n",
       "  1.8221064563440001x0\n",
       "  2.225520825778562x0\n",
       "  2.7182511366059354x0\n",
       "  3.3200719382504893x0\n",
       "  4.055135865379148x0\n",
       "  4.952942945974091x0\n",
       "  6.049524514212755x0\n",
       "  7.388889241659459x0"
      ]
     },
     "execution_count": 13,
     "metadata": {},
     "output_type": "execute_result"
    }
   ],
   "source": [
    "using DifferentialEquations\n",
    "@variables x0\n",
    "f = (x,p,t) -> 2x # simple ODE d/t*x(t)=2*x(t)\n",
    "prob = ODEProblem(f,x0,(0.0,1.0))\n",
    "sol = solve(prob,RK4(), dt=1/10,adaptive=false) # analytical solution is x(t)= x0*exp(2t)"
   ]
  },
  {
   "cell_type": "markdown",
   "metadata": {},
   "source": [
    "Quite cool intermediate solution: Julia is able to output the RK4 solution of the ODE with a symbolic starting condition. And we are even able to provide a derivative of the ODE solution, e.g., at the 2nd time step."
   ]
  },
  {
   "cell_type": "code",
   "execution_count": 15,
   "metadata": {},
   "outputs": [
    {
     "data": {
      "text/latex": [
       "$$ \\begin{equation}\n",
       "1.2214 x0\n",
       "\\end{equation}\n",
       " $$"
      ],
      "text/plain": [
       "1.2214x0"
      ]
     },
     "execution_count": 15,
     "metadata": {},
     "output_type": "execute_result"
    }
   ],
   "source": [
    "Dx = Differential(x0);\n",
    "sol.u[2]"
   ]
  },
  {
   "cell_type": "code",
   "execution_count": 16,
   "metadata": {},
   "outputs": [
    {
     "data": {
      "text/latex": [
       "$$ \\begin{equation}\n",
       "1.2214\n",
       "\\end{equation}\n",
       " $$"
      ],
      "text/plain": [
       "1.2214"
      ]
     },
     "execution_count": 16,
     "metadata": {},
     "output_type": "execute_result"
    }
   ],
   "source": [
    "expand_derivatives(Dx(sol.u[2]))"
   ]
  },
  {
   "cell_type": "markdown",
   "metadata": {},
   "source": [
    "In this example, we have used RK4 with a fixed step size as configured via `dt=1/10,adaptive=false`. Let's see what is happening if we drop these options such that the RK4 solver can choose its own step size."
   ]
  },
  {
   "cell_type": "code",
   "execution_count": 17,
   "metadata": {},
   "outputs": [
    {
     "ename": "LoadError",
     "evalue": "TypeError: non-boolean (Num) used in boolean context",
     "output_type": "error",
     "traceback": [
      "TypeError: non-boolean (Num) used in boolean context",
      "",
      "Stacktrace:",
      "  [1] ode_determine_initdt(u0::Num, t::Float64, tdir::Float64, dtmax::Float64, abstol::Num, reltol::Num, internalnorm::typeof(DiffEqBase.ODE_DEFAULT_NORM), prob::ODEProblem{Num, Tuple{Float64, Float64}, false, SciMLBase.NullParameters, ODEFunction{false, SciMLBase.AutoSpecialize, var\"#3#4\", LinearAlgebra.UniformScaling{Bool}, Nothing, Nothing, Nothing, Nothing, Nothing, Nothing, Nothing, Nothing, Nothing, Nothing, Nothing, Nothing, Nothing, Nothing, typeof(SciMLBase.DEFAULT_OBSERVED), Nothing, Nothing}, Base.Pairs{Symbol, Union{}, Tuple{}, NamedTuple{(), Tuple{}}}, SciMLBase.StandardODEProblem}, integrator::OrdinaryDiffEq.ODEIntegrator{RK4{typeof(OrdinaryDiffEq.trivial_limiter!), typeof(OrdinaryDiffEq.trivial_limiter!), Static.False}, false, Num, Nothing, Float64, SciMLBase.NullParameters, Float64, Num, Num, Float64, Vector{Num}, ODESolution{Num, 1, Vector{Num}, Nothing, Nothing, Vector{Float64}, Vector{Vector{Num}}, ODEProblem{Num, Tuple{Float64, Float64}, false, SciMLBase.NullParameters, ODEFunction{false, SciMLBase.AutoSpecialize, var\"#3#4\", LinearAlgebra.UniformScaling{Bool}, Nothing, Nothing, Nothing, Nothing, Nothing, Nothing, Nothing, Nothing, Nothing, Nothing, Nothing, Nothing, Nothing, Nothing, typeof(SciMLBase.DEFAULT_OBSERVED), Nothing, Nothing}, Base.Pairs{Symbol, Union{}, Tuple{}, NamedTuple{(), Tuple{}}}, SciMLBase.StandardODEProblem}, RK4{typeof(OrdinaryDiffEq.trivial_limiter!), typeof(OrdinaryDiffEq.trivial_limiter!), Static.False}, OrdinaryDiffEq.InterpolationData{ODEFunction{false, SciMLBase.AutoSpecialize, var\"#3#4\", LinearAlgebra.UniformScaling{Bool}, Nothing, Nothing, Nothing, Nothing, Nothing, Nothing, Nothing, Nothing, Nothing, Nothing, Nothing, Nothing, Nothing, Nothing, typeof(SciMLBase.DEFAULT_OBSERVED), Nothing, Nothing}, Vector{Num}, Vector{Float64}, Vector{Vector{Num}}, OrdinaryDiffEq.RK4ConstantCache}, DiffEqBase.Stats, Nothing}, ODEFunction{false, SciMLBase.AutoSpecialize, var\"#3#4\", LinearAlgebra.UniformScaling{Bool}, Nothing, Nothing, Nothing, Nothing, Nothing, Nothing, Nothing, Nothing, Nothing, Nothing, Nothing, Nothing, Nothing, Nothing, typeof(SciMLBase.DEFAULT_OBSERVED), Nothing, Nothing}, OrdinaryDiffEq.RK4ConstantCache, OrdinaryDiffEq.DEOptions{Num, Num, Num, Float64, PIController{Rational{Int64}}, typeof(DiffEqBase.ODE_DEFAULT_NORM), typeof(LinearAlgebra.opnorm), Nothing, CallbackSet{Tuple{}, Tuple{}}, typeof(DiffEqBase.ODE_DEFAULT_ISOUTOFDOMAIN), typeof(DiffEqBase.ODE_DEFAULT_PROG_MESSAGE), typeof(DiffEqBase.ODE_DEFAULT_UNSTABLE_CHECK), DataStructures.BinaryHeap{Float64, DataStructures.FasterForward}, DataStructures.BinaryHeap{Float64, DataStructures.FasterForward}, Nothing, Nothing, Int64, Tuple{}, Tuple{}, Tuple{}}, Num, Num, Nothing, OrdinaryDiffEq.DefaultInit})",
      "    @ OrdinaryDiffEq C:\\Users\\Oliver\\.julia\\packages\\OrdinaryDiffEq\\JJd6g\\src\\initdt.jl:260",
      "  [2] auto_dt_reset!",
      "    @ C:\\Users\\Oliver\\.julia\\packages\\OrdinaryDiffEq\\JJd6g\\src\\integrators\\integrator_interface.jl:449 [inlined]",
      "  [3] handle_dt!(integrator::OrdinaryDiffEq.ODEIntegrator{RK4{typeof(OrdinaryDiffEq.trivial_limiter!), typeof(OrdinaryDiffEq.trivial_limiter!), Static.False}, false, Num, Nothing, Float64, SciMLBase.NullParameters, Float64, Num, Num, Float64, Vector{Num}, ODESolution{Num, 1, Vector{Num}, Nothing, Nothing, Vector{Float64}, Vector{Vector{Num}}, ODEProblem{Num, Tuple{Float64, Float64}, false, SciMLBase.NullParameters, ODEFunction{false, SciMLBase.AutoSpecialize, var\"#3#4\", LinearAlgebra.UniformScaling{Bool}, Nothing, Nothing, Nothing, Nothing, Nothing, Nothing, Nothing, Nothing, Nothing, Nothing, Nothing, Nothing, Nothing, Nothing, typeof(SciMLBase.DEFAULT_OBSERVED), Nothing, Nothing}, Base.Pairs{Symbol, Union{}, Tuple{}, NamedTuple{(), Tuple{}}}, SciMLBase.StandardODEProblem}, RK4{typeof(OrdinaryDiffEq.trivial_limiter!), typeof(OrdinaryDiffEq.trivial_limiter!), Static.False}, OrdinaryDiffEq.InterpolationData{ODEFunction{false, SciMLBase.AutoSpecialize, var\"#3#4\", LinearAlgebra.UniformScaling{Bool}, Nothing, Nothing, Nothing, Nothing, Nothing, Nothing, Nothing, Nothing, Nothing, Nothing, Nothing, Nothing, Nothing, Nothing, typeof(SciMLBase.DEFAULT_OBSERVED), Nothing, Nothing}, Vector{Num}, Vector{Float64}, Vector{Vector{Num}}, OrdinaryDiffEq.RK4ConstantCache}, DiffEqBase.Stats, Nothing}, ODEFunction{false, SciMLBase.AutoSpecialize, var\"#3#4\", LinearAlgebra.UniformScaling{Bool}, Nothing, Nothing, Nothing, Nothing, Nothing, Nothing, Nothing, Nothing, Nothing, Nothing, Nothing, Nothing, Nothing, Nothing, typeof(SciMLBase.DEFAULT_OBSERVED), Nothing, Nothing}, OrdinaryDiffEq.RK4ConstantCache, OrdinaryDiffEq.DEOptions{Num, Num, Num, Float64, PIController{Rational{Int64}}, typeof(DiffEqBase.ODE_DEFAULT_NORM), typeof(LinearAlgebra.opnorm), Nothing, CallbackSet{Tuple{}, Tuple{}}, typeof(DiffEqBase.ODE_DEFAULT_ISOUTOFDOMAIN), typeof(DiffEqBase.ODE_DEFAULT_PROG_MESSAGE), typeof(DiffEqBase.ODE_DEFAULT_UNSTABLE_CHECK), DataStructures.BinaryHeap{Float64, DataStructures.FasterForward}, DataStructures.BinaryHeap{Float64, DataStructures.FasterForward}, Nothing, Nothing, Int64, Tuple{}, Tuple{}, Tuple{}}, Num, Num, Nothing, OrdinaryDiffEq.DefaultInit})",
      "    @ OrdinaryDiffEq C:\\Users\\Oliver\\.julia\\packages\\OrdinaryDiffEq\\JJd6g\\src\\solve.jl:555",
      "  [4] __init(prob::ODEProblem{Num, Tuple{Float64, Float64}, false, SciMLBase.NullParameters, ODEFunction{false, SciMLBase.AutoSpecialize, var\"#3#4\", LinearAlgebra.UniformScaling{Bool}, Nothing, Nothing, Nothing, Nothing, Nothing, Nothing, Nothing, Nothing, Nothing, Nothing, Nothing, Nothing, Nothing, Nothing, typeof(SciMLBase.DEFAULT_OBSERVED), Nothing, Nothing}, Base.Pairs{Symbol, Union{}, Tuple{}, NamedTuple{(), Tuple{}}}, SciMLBase.StandardODEProblem}, alg::RK4{typeof(OrdinaryDiffEq.trivial_limiter!), typeof(OrdinaryDiffEq.trivial_limiter!), Static.False}, timeseries_init::Tuple{}, ts_init::Tuple{}, ks_init::Tuple{}, recompile::Type{Val{true}}; saveat::Tuple{}, tstops::Tuple{}, d_discontinuities::Tuple{}, save_idxs::Nothing, save_everystep::Bool, save_on::Bool, save_start::Bool, save_end::Nothing, callback::Nothing, dense::Bool, calck::Bool, dt::Float64, dtmin::Nothing, dtmax::Float64, force_dtmin::Bool, adaptive::Bool, gamma::Rational{Int64}, abstol::Nothing, reltol::Nothing, qmin::Rational{Int64}, qmax::Int64, qsteady_min::Int64, qsteady_max::Int64, beta1::Nothing, beta2::Nothing, qoldinit::Rational{Int64}, controller::Nothing, fullnormalize::Bool, failfactor::Int64, maxiters::Int64, internalnorm::typeof(DiffEqBase.ODE_DEFAULT_NORM), internalopnorm::typeof(LinearAlgebra.opnorm), isoutofdomain::typeof(DiffEqBase.ODE_DEFAULT_ISOUTOFDOMAIN), unstable_check::typeof(DiffEqBase.ODE_DEFAULT_UNSTABLE_CHECK), verbose::Bool, timeseries_errors::Bool, dense_errors::Bool, advance_to_tstop::Bool, stop_at_next_tstop::Bool, initialize_save::Bool, progress::Bool, progress_steps::Int64, progress_name::String, progress_message::typeof(DiffEqBase.ODE_DEFAULT_PROG_MESSAGE), progress_id::Symbol, userdata::Nothing, allow_extrapolation::Bool, initialize_integrator::Bool, alias_u0::Bool, alias_du0::Bool, initializealg::OrdinaryDiffEq.DefaultInit, kwargs::Base.Pairs{Symbol, Union{}, Tuple{}, NamedTuple{(), Tuple{}}})",
      "    @ OrdinaryDiffEq C:\\Users\\Oliver\\.julia\\packages\\OrdinaryDiffEq\\JJd6g\\src\\solve.jl:517",
      "  [5] __init (repeats 5 times)",
      "    @ C:\\Users\\Oliver\\.julia\\packages\\OrdinaryDiffEq\\JJd6g\\src\\solve.jl:10 [inlined]",
      "  [6] #__solve#740",
      "    @ C:\\Users\\Oliver\\.julia\\packages\\OrdinaryDiffEq\\JJd6g\\src\\solve.jl:5 [inlined]",
      "  [7] __solve",
      "    @ C:\\Users\\Oliver\\.julia\\packages\\OrdinaryDiffEq\\JJd6g\\src\\solve.jl:1 [inlined]",
      "  [8] #solve_call#34",
      "    @ C:\\Users\\Oliver\\.julia\\packages\\DiffEqBase\\s433k\\src\\solve.jl:559 [inlined]",
      "  [9] solve_call",
      "    @ C:\\Users\\Oliver\\.julia\\packages\\DiffEqBase\\s433k\\src\\solve.jl:529 [inlined]",
      " [10] solve_up(prob::ODEProblem{Num, Tuple{Float64, Float64}, false, SciMLBase.NullParameters, ODEFunction{false, SciMLBase.AutoSpecialize, var\"#3#4\", LinearAlgebra.UniformScaling{Bool}, Nothing, Nothing, Nothing, Nothing, Nothing, Nothing, Nothing, Nothing, Nothing, Nothing, Nothing, Nothing, Nothing, Nothing, typeof(SciMLBase.DEFAULT_OBSERVED), Nothing, Nothing}, Base.Pairs{Symbol, Union{}, Tuple{}, NamedTuple{(), Tuple{}}}, SciMLBase.StandardODEProblem}, sensealg::Nothing, u0::Num, p::SciMLBase.NullParameters, args::RK4{typeof(OrdinaryDiffEq.trivial_limiter!), typeof(OrdinaryDiffEq.trivial_limiter!), Static.False}; kwargs::Base.Pairs{Symbol, Union{}, Tuple{}, NamedTuple{(), Tuple{}}})",
      "    @ DiffEqBase C:\\Users\\Oliver\\.julia\\packages\\DiffEqBase\\s433k\\src\\solve.jl:1020",
      " [11] solve_up",
      "    @ C:\\Users\\Oliver\\.julia\\packages\\DiffEqBase\\s433k\\src\\solve.jl:993 [inlined]",
      " [12] #solve#40",
      "    @ C:\\Users\\Oliver\\.julia\\packages\\DiffEqBase\\s433k\\src\\solve.jl:930 [inlined]",
      " [13] solve(prob::ODEProblem{Num, Tuple{Float64, Float64}, false, SciMLBase.NullParameters, ODEFunction{false, SciMLBase.AutoSpecialize, var\"#3#4\", LinearAlgebra.UniformScaling{Bool}, Nothing, Nothing, Nothing, Nothing, Nothing, Nothing, Nothing, Nothing, Nothing, Nothing, Nothing, Nothing, Nothing, Nothing, typeof(SciMLBase.DEFAULT_OBSERVED), Nothing, Nothing}, Base.Pairs{Symbol, Union{}, Tuple{}, NamedTuple{(), Tuple{}}}, SciMLBase.StandardODEProblem}, args::RK4{typeof(OrdinaryDiffEq.trivial_limiter!), typeof(OrdinaryDiffEq.trivial_limiter!), Static.False})",
      "    @ DiffEqBase C:\\Users\\Oliver\\.julia\\packages\\DiffEqBase\\s433k\\src\\solve.jl:920",
      " [14] top-level scope",
      "    @ In[17]:1"
     ]
    }
   ],
   "source": [
    "sol = solve(prob,RK4()) "
   ]
  },
  {
   "cell_type": "markdown",
   "metadata": {},
   "source": [
    "Due to the adaptive step size degree of freedom within the solver, the resulting adaptive algorithm cannot be traced into a symbolic expression as the number of RK4 iterations is unknown before run time. \n",
    "\n",
    "**Symbolic differentiation is therefore limited to problems which are representable by symbolic algorithms, that is, quasi-static code.**"
   ]
  }
 ],
 "metadata": {
  "kernelspec": {
   "display_name": "Julia 1.8.5",
   "language": "julia",
   "name": "julia-1.8"
  },
  "language_info": {
   "file_extension": ".jl",
   "mimetype": "application/julia",
   "name": "julia",
   "version": "1.8.5"
  }
 },
 "nbformat": 4,
 "nbformat_minor": 2
}
